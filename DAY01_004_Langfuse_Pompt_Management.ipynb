{
 "cells": [
  {
   "cell_type": "markdown",
   "metadata": {},
   "source": [
    "# Langfuse 프롬프트 관리 \n",
    "\n",
    "## 환경 설정 및 준비\n",
    "\n",
    "### (1) Env 환경변수"
   ]
  },
  {
   "cell_type": "code",
   "execution_count": 1,
   "metadata": {},
   "outputs": [
    {
     "data": {
      "text/plain": [
       "True"
      ]
     },
     "execution_count": 1,
     "metadata": {},
     "output_type": "execute_result"
    }
   ],
   "source": [
    "from dotenv import load_dotenv\n",
    "load_dotenv()"
   ]
  },
  {
   "cell_type": "markdown",
   "metadata": {},
   "source": [
    "### (2) 기본 라이브러리"
   ]
  },
  {
   "cell_type": "code",
   "execution_count": 2,
   "metadata": {},
   "outputs": [],
   "source": [
    "import os\n",
    "from glob import glob\n",
    "from pprint import pprint\n",
    "import json\n",
    "import warnings\n",
    "warnings.filterwarnings(\"ignore\")"
   ]
  },
  {
   "cell_type": "markdown",
   "metadata": {},
   "source": [
    "### (3) Langfuse 콜백 핸들러 설정"
   ]
  },
  {
   "cell_type": "code",
   "execution_count": 3,
   "metadata": {},
   "outputs": [],
   "source": [
    "from langfuse.langchain import CallbackHandler \n",
    "\n",
    "# LangChain 콜백 핸들러 생성\n",
    "langfuse_handler = CallbackHandler()"
   ]
  },
  {
   "cell_type": "markdown",
   "metadata": {},
   "source": [
    "### (4) Langfuse 클라이언트 설정"
   ]
  },
  {
   "cell_type": "code",
   "execution_count": 4,
   "metadata": {},
   "outputs": [],
   "source": [
    "from langfuse import get_client\n",
    "\n",
    "# Langfuse 클라이언트 초기화\n",
    "langfuse = get_client()\n",
    "\n",
    "# 연결 테스트\n",
    "assert langfuse.auth_check()"
   ]
  },
  {
   "cell_type": "markdown",
   "metadata": {},
   "source": [
    "---\n",
    "\n",
    "## 프롬프트 관리 개요\n",
    "\n",
    "Langfuse는 **프롬프트 CMS(Content Management System)** 기능을 제공\n",
    "\n",
    "- **버전 관리**: 프롬프트의 모든 변경사항을 추적하고 롤백 가능\n",
    "- **협업**: 팀원들과 함께 프롬프트를 편집하고 관리\n",
    "- **배포 관리**: 라벨을 통해 코드 변경 없이 환경별 배포\n",
    "- **성능 모니터링**: 프롬프트 버전별 성능 메트릭 비교\n",
    "- **실시간 테스트**: 플레이그라운드에서 즉시 테스트 가능\n",
    "\n",
    "---\n",
    "\n",
    "## 1. 프롬프트 생성\n",
    "\n",
    "### 1.1 텍스트 프롬프트 생성"
   ]
  },
  {
   "cell_type": "code",
   "execution_count": 5,
   "metadata": {},
   "outputs": [
    {
     "data": {
      "text/plain": [
       "<langfuse.model.TextPromptClient at 0x1be85679850>"
      ]
     },
     "execution_count": 5,
     "metadata": {},
     "output_type": "execute_result"
    }
   ],
   "source": [
    "# 텍스트 프롬프트 생성\n",
    "langfuse.create_prompt(\n",
    "    name=\"movie-critic\",  # 프롬프트 이름\n",
    "    type=\"text\",          \n",
    "    prompt=\"{{criticLevel}} 영화 평론가로서, {{movie}}를 어떻게 생각하시나요?\",\n",
    "    labels=[\"production\"],       # 프로덕션 레이블\n",
    "    tags=[\"movie\", \"qa\", \"text\"],    # 태그\n",
    "    config={\n",
    "        \"model\": \"gpt-4.1-mini\",\n",
    "        \"temperature\": 0.7,\n",
    "        \"max_tokens\": 500\n",
    "    }\n",
    ")"
   ]
  },
  {
   "cell_type": "markdown",
   "metadata": {},
   "source": [
    "### 1.2 챗 프롬프트 생성"
   ]
  },
  {
   "cell_type": "code",
   "execution_count": 6,
   "metadata": {},
   "outputs": [
    {
     "data": {
      "text/plain": [
       "<langfuse.model.ChatPromptClient at 0x1be85657e00>"
      ]
     },
     "execution_count": 6,
     "metadata": {},
     "output_type": "execute_result"
    }
   ],
   "source": [
    "# 챗 프롬프트 생성\n",
    "langfuse.create_prompt(\n",
    "    name=\"movie-critic-chat\",  # 프롬프트 이름\n",
    "    type=\"chat\",          \n",
    "    prompt=[\n",
    "        {\n",
    "            \"role\": \"system\",\n",
    "            \"content\": \"당신은 {{criticLevel}} 영화 평론가입니다.\"\n",
    "        },\n",
    "        {\n",
    "            \"role\": \"user\",\n",
    "            \"content\": \"영화 {{movie}}를 어떻게 생각하시나요?\"\n",
    "        }\n",
    "    ],\n",
    "    labels=[\"production\"],       # 프로덕션 레이블\n",
    "    tags=[\"movie\", \"qa\", \"chat\"],    # 태그\n",
    "    config={\n",
    "        \"model\": \"gpt-4.1-mini\",\n",
    "        \"temperature\": 0.7,\n",
    "        \"max_tokens\": 500\n",
    "    }\n",
    ")"
   ]
  },
  {
   "cell_type": "markdown",
   "metadata": {},
   "source": [
    "### 1.3 메시지 플레이스홀더가 있는 챗 프롬프트"
   ]
  },
  {
   "cell_type": "code",
   "execution_count": 7,
   "metadata": {},
   "outputs": [
    {
     "data": {
      "text/plain": [
       "<langfuse.model.ChatPromptClient at 0x1be8567b920>"
      ]
     },
     "execution_count": 7,
     "metadata": {},
     "output_type": "execute_result"
    }
   ],
   "source": [
    "# 메시지 플레이스홀더를 포함한 챗 프롬프트\n",
    "langfuse.create_prompt(\n",
    "    name=\"movie-critic-with-history\",\n",
    "    type=\"chat\",\n",
    "    prompt=[\n",
    "        {\n",
    "            \"role\": \"system\",\n",
    "            \"content\": \"당신은 {{criticLevel}} 영화 평론가입니다.\"\n",
    "        },\n",
    "        {\n",
    "            \"type\": \"placeholder\",\n",
    "            \"name\": \"chat_history\"  # 대화 히스토리 삽입 지점\n",
    "        },\n",
    "        {\n",
    "            \"role\": \"user\",\n",
    "            \"content\": \"영화 {{movie}}에 대해 어떻게 생각하시나요?\"\n",
    "        }\n",
    "    ],\n",
    "    labels=[\"production\"],\n",
    "    tags=[\"movie\", \"qa\", \"chat\", \"history\"]\n",
    ")"
   ]
  },
  {
   "cell_type": "markdown",
   "metadata": {},
   "source": [
    "### **[실습 1]**\n",
    "텍스트 기반 프롬프트와 chat 기반 프롬프트를 각각 구현하고, Langfuse UI에서 확인하세요."
   ]
  },
  {
   "cell_type": "code",
   "execution_count": 8,
   "metadata": {},
   "outputs": [],
   "source": [
    "# 텍스트 프롬프트 생성\n",
    "# 여기에 코드를 작성하세요"
   ]
  },
  {
   "cell_type": "code",
   "execution_count": 9,
   "metadata": {},
   "outputs": [],
   "source": [
    "# 챗 프롬프트 생성\n",
    "# 여기에 코드를 작성하세요"
   ]
  },
  {
   "cell_type": "markdown",
   "metadata": {},
   "source": [
    "---\n",
    "\n",
    "## 2. 프롬프트 활용\n",
    "\n",
    "### 2.1 기본 프롬프트 가져오기"
   ]
  },
  {
   "cell_type": "code",
   "execution_count": 10,
   "metadata": {},
   "outputs": [
    {
     "name": "stdout",
     "output_type": "stream",
     "text": [
      "모델: gpt-4.1-mini\n",
      "온도: 0.7\n",
      "라벨: ['production', 'latest']\n",
      "태그: ['movie', 'qa', 'text']\n",
      "프롬프트: {{criticLevel}} 영화 평론가로서, {{movie}}를 어떻게 생각하시나요?\n",
      "----------------------------------------------------------------------------------------------------\n",
      "{criticLevel} 영화 평론가로서, {movie}를 어떻게 생각하시나요?\n"
     ]
    }
   ],
   "source": [
    "# 프로덕션 버전 가져오기\n",
    "prompt = langfuse.get_prompt(\"movie-critic\")\n",
    "\n",
    "# 프롬프트 정보 출력\n",
    "print(f\"모델: {prompt.config['model']}\")\n",
    "print(f\"온도: {prompt.config['temperature']}\")\n",
    "print(f\"라벨: {prompt.labels}\")\n",
    "print(f\"태그: {prompt.tags}\")\n",
    "print(f\"프롬프트: {prompt.prompt}\")\n",
    "print(\"-\" * 100)\n",
    "\n",
    "# 랭체인 호환 프롬프트 출력 (중괄호 1개 사용)\n",
    "print(prompt.get_langchain_prompt())"
   ]
  },
  {
   "cell_type": "markdown",
   "metadata": {},
   "source": [
    "### 2.2 compile 메서드 사용\n",
    "\n",
    "- compile 메서드로 변수 삽입"
   ]
  },
  {
   "cell_type": "code",
   "execution_count": 11,
   "metadata": {},
   "outputs": [
    {
     "name": "stdout",
     "output_type": "stream",
     "text": [
      "전문가 영화 평론가로서, 인셉션를 어떻게 생각하시나요?\n"
     ]
    }
   ],
   "source": [
    "# compile 메서드로 변수 삽입\n",
    "compiled_prompt = prompt.compile(criticLevel=\"전문가\", movie=\"인셉션\")\n",
    "print(compiled_prompt)"
   ]
  },
  {
   "cell_type": "markdown",
   "metadata": {},
   "source": [
    "### 2.3 챗 프롬프트 가져오기 및 컴파일"
   ]
  },
  {
   "cell_type": "code",
   "execution_count": 13,
   "metadata": {},
   "outputs": [
    {
     "name": "stdout",
     "output_type": "stream",
     "text": [
      "모델: gpt-4.1-mini\n",
      "온도: 0.7\n",
      "라벨: ['production', 'latest']\n",
      "태그: ['movie', 'qa', 'chat']\n",
      "프롬프트: [{'type': 'message', 'role': 'system', 'content': '당신은 {{criticLevel}} 영화 평론가입니다.'}, {'type': 'message', 'role': 'user', 'content': '영화 {{movie}}를 어떻게 생각하시나요?'}]\n",
      "----------------------------------------------------------------------------------------------------\n",
      "[('system', '당신은 {criticLevel} 영화 평론가입니다.'), ('user', '영화 {movie}를 어떻게 생각하시나요?')]\n"
     ]
    }
   ],
   "source": [
    "# 챗 프롬프트 가져오기\n",
    "chat_prompt = langfuse.get_prompt(\"movie-critic-chat\", type=\"chat\")\n",
    "\n",
    "# 챗 프롬프트 정보 출력\n",
    "print(f\"모델: {chat_prompt.config['model']}\")\n",
    "print(f\"온도: {chat_prompt.config['temperature']}\")\n",
    "print(f\"라벨: {chat_prompt.labels}\")\n",
    "print(f\"태그: {chat_prompt.tags}\")\n",
    "print(f\"프롬프트: {chat_prompt.prompt}\")\n",
    "print(\"-\" * 100)\n",
    "\n",
    "# 랭체인 호환 프롬프트 출력\n",
    "print(chat_prompt.get_langchain_prompt())"
   ]
  },
  {
   "cell_type": "code",
   "execution_count": 14,
   "metadata": {},
   "outputs": [
    {
     "name": "stdout",
     "output_type": "stream",
     "text": [
      "[{'role': 'system', 'content': '당신은 전문가 영화 평론가입니다.'}, {'role': 'user', 'content': '영화 인셉션를 어떻게 생각하시나요?'}]\n"
     ]
    }
   ],
   "source": [
    "# 챗 프롬프트 컴파일\n",
    "compiled_chat_prompt = chat_prompt.compile(criticLevel=\"전문가\", movie=\"인셉션\")\n",
    "print(compiled_chat_prompt)"
   ]
  },
  {
   "cell_type": "markdown",
   "metadata": {},
   "source": [
    "### 2.4 메시지 플레이스홀더 활용"
   ]
  },
  {
   "cell_type": "code",
   "execution_count": 15,
   "metadata": {},
   "outputs": [
    {
     "name": "stdout",
     "output_type": "stream",
     "text": [
      "{'role': 'system', 'content': '당신은 전문가 영화 평론가입니다.'}\n",
      "--------------------\n",
      "{'role': 'user', 'content': '안녕하세요!'}\n",
      "--------------------\n",
      "{'role': 'assistant', 'content': '안녕하세요! 영화에 대해 이야기해볼까요?'}\n",
      "--------------------\n",
      "{'role': 'user', 'content': '영화 인셉션에 대해 어떻게 생각하시나요?'}\n",
      "--------------------\n"
     ]
    }
   ],
   "source": [
    "# 플레이스홀더가 있는 챗 프롬프트 가져오기\n",
    "prompt_with_history = langfuse.get_prompt(\"movie-critic-with-history\", type=\"chat\")\n",
    "\n",
    "# 대화 히스토리 정의\n",
    "chat_history = [\n",
    "    {\"role\": \"user\", \"content\": \"안녕하세요!\"},\n",
    "    {\"role\": \"assistant\", \"content\": \"안녕하세요! 영화에 대해 이야기해볼까요?\"}\n",
    "]\n",
    "\n",
    "# 변수와 플레이스홀더를 모두 컴파일\n",
    "compiled_with_history = prompt_with_history.compile(\n",
    "            criticLevel=\"전문가\",\n",
    "            movie=\"인셉션\", \n",
    "            chat_history=chat_history\n",
    "        )\n",
    "\n",
    "for message in compiled_with_history:\n",
    "    print(message)\n",
    "    print(\"-\" * 20)"
   ]
  },
  {
   "cell_type": "markdown",
   "metadata": {},
   "source": [
    "### **[실습 2]**\n",
    "\"movie-critic-chat\" 프롬프트를 Langfuse에서 가져와서 내용을 출력하고, compile 메서드를 사용해 변수에 적절한 값을 추가해보세요."
   ]
  },
  {
   "cell_type": "code",
   "execution_count": null,
   "metadata": {},
   "outputs": [],
   "source": [
    "# chat 프롬프트 가져오기 및 컴파일\n",
    "# 여기에 코드를 작성하세요"
   ]
  },
  {
   "cell_type": "code",
   "execution_count": null,
   "metadata": {},
   "outputs": [],
   "source": [
    "# chat 프롬프트 가져오기 및 컴파일\n",
    "chat_prompt = langfuse.get_prompt(\"movie-critic-chat\", type=\"chat\")\n",
    "\n",
    "# 대화 히스토리 정의\n",
    "chat_history = [\n",
    "    {\"role\": \"user\", \"content\": \"안녕하세요!\"},\n",
    "    {\"role\": \"assistant\", \"content\": \"안녕하세요! 영화에 대해 이야기해볼까요?\"}\n",
    "]\n",
    "\n",
    "# 변수와 플레이스홀더를 모두 컴파일\n",
    "compiled_chat_prompt = chat_prompt.compile(\n",
    "    criticLevel=\"전문가\", \n",
    "    movie=\"인셉션\"\n",
    ")\n",
    "\n",
    "for message in compiled_chat_prompt:\n",
    "    print(message)\n",
    "    print(\"-\" * 20)"
   ]
  },
  {
   "cell_type": "markdown",
   "metadata": {},
   "source": [
    "---\n",
    "\n",
    "## 3. 프롬프트 버전 관리\n",
    "\n",
    "### 3.1 새로운 버전 생성"
   ]
  },
  {
   "cell_type": "code",
   "execution_count": 16,
   "metadata": {},
   "outputs": [
    {
     "data": {
      "text/plain": [
       "<langfuse.model.TextPromptClient at 0x1be85679c70>"
      ]
     },
     "execution_count": 16,
     "metadata": {},
     "output_type": "execute_result"
    }
   ],
   "source": [
    "# 새로운 버전 생성 (같은 이름 사용)\n",
    "langfuse.create_prompt(\n",
    "    name=\"movie-critic\",  # 같은 이름 사용\n",
    "    type=\"text\",          \n",
    "    prompt=\"당신은 {{criticLevel}} 영화 평론가입니다.\\n\\n영화 {{movie}}에 대한 상세한 분석을 제공해주세요. 연출, 연기, 스토리, 시각적 효과를 포함하여 평가해주세요.\",\n",
    "    labels=[\"production\"],       # 프로덕션 레이블\n",
    "    tags=[\"movie\", \"qa\", \"text\", \"detailed\"],    # 태그 업데이트\n",
    "    config={\n",
    "        \"model\": \"gpt-4.1\",  # 모델 업그레이드\n",
    "        \"temperature\": 0.7,\n",
    "        \"max_tokens\": 1000  # 토큰 수 증가\n",
    "    }\n",
    ")"
   ]
  },
  {
   "cell_type": "markdown",
   "metadata": {},
   "source": [
    "### 3.2 특정 버전 가져오기"
   ]
  },
  {
   "cell_type": "code",
   "execution_count": 17,
   "metadata": {},
   "outputs": [
    {
     "name": "stdout",
     "output_type": "stream",
     "text": [
      "V1 프롬프트: {{criticLevel}} 영화 평론가로서, {{movie}}를 어떻게 생각하시나요?\n",
      "V2 프롬프트: 당신은 {{criticLevel}} 영화 평론가입니다.\n",
      "\n",
      "영화 {{movie}}에 대한 상세한 분석을 제공해주세요. 연출, 연기, 스토리, 시각적 효과를 포함하여 평가해주세요.\n",
      "V1 모델: gpt-4.1-mini\n",
      "V2 모델: gpt-4.1\n"
     ]
    }
   ],
   "source": [
    "# 특정 버전 가져오기\n",
    "prompt_v1 = langfuse.get_prompt(\"movie-critic\", version=1)\n",
    "prompt_v2 = langfuse.get_prompt(\"movie-critic\", version=2)\n",
    "\n",
    "# 버전별 비교\n",
    "print(f\"V1 프롬프트: {prompt_v1.prompt}\")\n",
    "print(f\"V2 프롬프트: {prompt_v2.prompt}\")\n",
    "print(f\"V1 모델: {prompt_v1.config['model']}\")\n",
    "print(f\"V2 모델: {prompt_v2.config['model']}\")"
   ]
  },
  {
   "cell_type": "markdown",
   "metadata": {},
   "source": [
    "### 3.3 라벨 관리"
   ]
  },
  {
   "cell_type": "code",
   "execution_count": 18,
   "metadata": {},
   "outputs": [],
   "source": [
    "# 특정 라벨로 프롬프트 생성 (같은 이름을 사용하면 새로운 버전으로 생성됨)\n",
    "langfuse.create_prompt(\n",
    "    name=\"movie-critic-chat\",\n",
    "    type=\"chat\",\n",
    "    prompt=[\n",
    "        {\n",
    "            \"role\": \"system\",\n",
    "            \"content\": \"당신은 {{criticLevel}} 영화 평론가입니다. 상세하고 전문적인 분석을 제공해주세요.\"\n",
    "        },\n",
    "        {\n",
    "            \"role\": \"user\",\n",
    "            \"content\": \"영화 {{movie}}에 대한 평론을 작성해주세요.\"\n",
    "        }\n",
    "    ],\n",
    "    labels=[\"staging\"],  # staging 환경용\n",
    "    tags=[\"movie\", \"qa\", \"chat\", \"detailed\"]\n",
    ")\n",
    "\n",
    "# 라벨별 프롬프트 가져오기\n",
    "prompt_production = langfuse.get_prompt(\"movie-critic-chat\", label=\"production\")\n",
    "prompt_staging = langfuse.get_prompt(\"movie-critic-chat\", label=\"staging\")\n",
    "prompt_latest = langfuse.get_prompt(\"movie-critic-chat\", label=\"latest\")"
   ]
  },
  {
   "cell_type": "code",
   "execution_count": 19,
   "metadata": {},
   "outputs": [
    {
     "name": "stdout",
     "output_type": "stream",
     "text": [
      "Production 프롬프트: [{'type': 'message', 'role': 'system', 'content': '당신은 {{criticLevel}} 영화 평론가입니다.'}, {'type': 'message', 'role': 'user', 'content': '영화 {{movie}}를 어떻게 생각하시나요?'}]\n",
      "----------------------------------------------------------------------------------------------------\n",
      "Staging 프롬프트: [{'type': 'message', 'role': 'system', 'content': '당신은 {{criticLevel}} 영화 평론가입니다. 상세하고 전문적인 분석을 제공해주세요.'}, {'type': 'message', 'role': 'user', 'content': '영화 {{movie}}에 대한 평론을 작성해주세요.'}]\n",
      "----------------------------------------------------------------------------------------------------\n",
      "Latest 프롬프트: [{'type': 'message', 'role': 'system', 'content': '당신은 {{criticLevel}} 영화 평론가입니다. 상세하고 전문적인 분석을 제공해주세요.'}, {'type': 'message', 'role': 'user', 'content': '영화 {{movie}}에 대한 평론을 작성해주세요.'}]\n"
     ]
    }
   ],
   "source": [
    "# 라벨별 프롬프트 출력\n",
    "print(f\"Production 프롬프트: {prompt_production.prompt}\")\n",
    "print(\"-\" * 100)\n",
    "print(f\"Staging 프롬프트: {prompt_staging.prompt}\")\n",
    "print(\"-\" * 100)\n",
    "print(f\"Latest 프롬프트: {prompt_latest.prompt}\")"
   ]
  },
  {
   "cell_type": "markdown",
   "metadata": {},
   "source": [
    "### 3.4 라벨 업데이트"
   ]
  },
  {
   "cell_type": "code",
   "execution_count": 20,
   "metadata": {},
   "outputs": [
    {
     "data": {
      "text/plain": [
       "Prompt_Chat(prompt=[ChatMessageWithPlaceholders_Chatmessage(role='system', content='당신은 {{criticLevel}} 영화 평론가입니다. 상세하고 전문적인 분석을 제공해주세요.', type='chatmessage'), ChatMessageWithPlaceholders_Chatmessage(role='user', content='영화 {{movie}}에 대한 평론을 작성해주세요.', type='chatmessage')], name='movie-critic-chat', version=2, config={}, labels=['production', 'v2-stable', 'staging', 'latest'], tags=['movie', 'qa', 'chat', 'detailed'], commit_message=None, resolution_graph=None, type='chat', updatedAt='2025-09-09T00:37:26.893Z', id='7e8dc621-6a47-4e9b-884a-cdf20c3584ef', isActive=None, createdBy='API', projectId='cmfbt9zku0b94ad077nt3sxeh', createdAt='2025-09-09T00:35:51.919Z')"
      ]
     },
     "execution_count": 20,
     "metadata": {},
     "output_type": "execute_result"
    }
   ],
   "source": [
    "# 기존 프롬프트 버전의 라벨 업데이트\n",
    "langfuse.update_prompt(\n",
    "    name=\"movie-critic-chat\",\n",
    "    version=2,\n",
    "    new_labels=[\"production\", \"v2-stable\"]\n",
    ")"
   ]
  },
  {
   "cell_type": "markdown",
   "metadata": {},
   "source": [
    "### **[실습 3]**\n",
    "\"movie-critic-chat\" 프롬프트를 수정하고, labels 속성은 \"staging\"으로 지정한 후, staging 버전을 가져와서 내용을 출력하세요."
   ]
  },
  {
   "cell_type": "code",
   "execution_count": 21,
   "metadata": {},
   "outputs": [
    {
     "name": "stdout",
     "output_type": "stream",
     "text": [
      "Staging 프롬프트: [{'type': 'message', 'role': 'system', 'content': '당신은 {{criticLevel}} 영화 평론가입니다. 항상 친근하게 말을 건네며 시작합니ㅏ. 상세하고 전문적인 분석을 제공해주세요.'}, {'type': 'message', 'role': 'user', 'content': '영화 {{movie}}에 대한 평론을 작성해주세요.'}]\n",
      "----------------------------------------------------------------------------------------------------\n"
     ]
    }
   ],
   "source": [
    "# staging 라벨 생성\n",
    "# 여기에 코드를 작성하세요\n",
    "\n",
    "langfuse.create_prompt(\n",
    "    name=\"movie-critic-chat\",\n",
    "    type=\"chat\",\n",
    "    prompt=[\n",
    "        {\n",
    "            \"role\": \"system\",\n",
    "            \"content\": \"당신은 {{criticLevel}} 영화 평론가입니다. 항상 친근하게 말을 건네며 시작합니ㅏ. 상세하고 전문적인 분석을 제공해주세요.\"\n",
    "        },\n",
    "        {\n",
    "            \"role\": \"user\",\n",
    "            \"content\": \"영화 {{movie}}에 대한 평론을 작성해주세요.\"\n",
    "        }\n",
    "    ],\n",
    "    labels=[\"staging\"],  # staging 환경용\n",
    "    tags=[\"movie\", \"qa\", \"chat\", \"detailed\"]\n",
    ")\n",
    "\n",
    "# staging 라벨 가져오기\n",
    "# 여기에 코드를 작성하세요\n",
    "prompt_staging = langfuse.get_prompt(\"movie-critic-chat\", label=\"staging\")\n",
    "print(f\"Staging 프롬프트: {prompt_staging.prompt}\")\n",
    "print(\"-\" * 100)"
   ]
  },
  {
   "cell_type": "code",
   "execution_count": 22,
   "metadata": {},
   "outputs": [
    {
     "name": "stdout",
     "output_type": "stream",
     "text": [
      "Staging 프롬프트: [{'type': 'message', 'role': 'system', 'content': '당신은 {{criticLevel}} 영화 평론가입니다. 일반적이고 상세하며 전문적인 분석을 제공해주세요.'}, {'type': 'message', 'role': 'user', 'content': '영화 {{movie}}에 대한 평론을 작성해주세요.'}]\n"
     ]
    }
   ],
   "source": [
    "# staging 라벨 생성\n",
    "# 여기에 코드를 작성하세요\n",
    "langfuse.create_prompt(\n",
    "    name=\"movie-critic-chat\",\n",
    "    type=\"chat\",\n",
    "    prompt=[\n",
    "        {\n",
    "            \"role\": \"system\",\n",
    "            \"content\": \"당신은 {{criticLevel}} 영화 평론가입니다. 일반적이고 상세하며 전문적인 분석을 제공해주세요.\"\n",
    "        },\n",
    "        {\n",
    "            \"role\": \"user\",\n",
    "            \"content\": \"영화 {{movie}}에 대한 평론을 작성해주세요.\"\n",
    "        }\n",
    "    ],\n",
    "    labels=[\"staging\"],  # staging 환경용\n",
    "    tags=[\"movie\", \"qa\", \"chat\", \"detailed\"]\n",
    ")\n",
    "\n",
    "# staging 라벨 가져오기\n",
    "prompt_staging = langfuse.get_prompt(\n",
    "    name=\"movie-critic-chat\",\n",
    "    label=\"staging\"\n",
    ")\n",
    "\n",
    "# 라벨별 프롬프트 출력\n",
    "print(f\"Staging 프롬프트: {prompt_staging.prompt}\")"
   ]
  },
  {
   "cell_type": "markdown",
   "metadata": {},
   "source": [
    "---\n",
    "\n",
    "## 4. LangChain과의 통합\n",
    "\n",
    "### 4.1 텍스트 프롬프트와 LangChain 통합"
   ]
  },
  {
   "cell_type": "code",
   "execution_count": 23,
   "metadata": {},
   "outputs": [
    {
     "name": "stdout",
     "output_type": "stream",
     "text": [
      "네, 전문가 영화 평론가의 시각에서 크리스토퍼 놀란 감독의 **『인셉션』(Inception, 2010)**을 상세하게 분석하겠습니다.\n",
      "\n",
      "---\n",
      "\n",
      "## 1. 연출\n",
      "\n",
      "크리스토퍼 놀란은 본작에서 치밀하면서도 독창적인 연출력을 선보입니다. 꿈과 현실, 다중 레이어의 세계를 유기적으로 엮어내며, 관객이 자연스럽게 복잡한 구조에 몰입하도록 유도합니다. 특히 꿈의 시간 흐름과 현실의 시간 흐름의 차이를 교차 편집으로 표현한 점은 탁월합니다. 액션과 드라마, 서스펜스가 완벽하게 조화를 이루며, 한 순간도 긴장감을 놓치지 않습니다. ‘꿈 속의 꿈’이라는 난해한 설정을 시각적으로 명확하게 구분해내는 솜씨도 인상적입니다.\n",
      "\n",
      "---\n",
      "\n",
      "## 2. 연기\n",
      "\n",
      "레오나르도 디카프리오(돔 코브 역)는 트라우마에 시달리는 복합적인 인물을 섬세하게 연기하며, 관객이 그의 감정에 공감하도록 만듭니다. 마리옹 꼬띠아르(맬 역)는 미스터리하면서도 강렬한 존재감으로 극의 긴장감을 극대화합니다. 조셉 고든-레빗, 엘렌 페이지, 톰 하디 등 조연 배우들도 각자의 개성을 뚜렷이 드러내며 팀의 역동성을 완성합니다. 전체적으로 연기 앙상블이 매우 탄탄해, 현실과 환상이 뒤섞인 세계에서도 감정의 리얼리티를 놓치지 않습니다.\n",
      "\n",
      "---\n",
      "\n",
      "## 3. 스토리\n",
      "\n",
      "『인셉션』의 스토리는 ‘꿈을 통해 생각(아이디어)을 주입한다’는 독특한 설정에서 출발합니다. 영화는 한 사람의 내면 세계와 무의식, 죄책감, 상실 등의 심리적 요소를 SF와 범죄 스릴러 장르에 절묘하게 녹여냅니다. 복잡한 플롯 구조에도 불구하고, 인물의 감정선과 주제 의식이 분명하게 드러나 관객의 이해와 몰입을 돕습니다. 엔딩의 ‘토템’ 장면은 현실과 환상, 진실과 자기기만에 대한 질문을 남기며 오랜 여운을 줍니다.\n",
      "\n",
      "---\n",
      "\n",
      "## 4. 시각적 효과\n",
      "\n",
      "시각적 효과는 『인셉션』의 가장 큰 미덕 중 하나입니다. 파리의 거리가 접히고, 중력이 뒤틀리며, 건물이 폭발하는 등 상상력을 극한으로 확장한 비주얼은 새로운 차원의 ‘꿈’을 구현합니다. 컴퓨터 그래픽과 실사 촬영이 정교하게 결합되어, 시각적 쾌감과 함께 실제감마저 제공합니다. 특히 무중력 액션 시퀀스(호텔 복도 신)는 영화사에 남을 명장면 중 하나로 꼽힙니다.\n",
      "\n",
      "---\n",
      "\n",
      "## 총평\n",
      "\n",
      "『인셉션』은 놀란 감독의 창의력, 배우들의 열연, 탄탄한 각본, 혁신적 비주얼이 완벽하게 어우러진 21세기 최고의 SF 스릴러 중 하나입니다. 복잡하면서도 치밀한 구조, 깊이 있는 주제 의식, 그리고 영화적 쾌감이 공존하는 걸작으로 평가받을 만합니다. 관객에게 ‘영화는 무엇인가’, ‘현실이란 무엇인가’라는 근본적인 질문을 던지며, 오랜 시간 동안 논의와 해석을 이끌어낸다는 점에서 걸출한 작품임에 틀림없습니다.\n"
     ]
    }
   ],
   "source": [
    "from langchain_core.prompts import PromptTemplate\n",
    "from langchain_openai import ChatOpenAI\n",
    "\n",
    "# Langfuse 프롬프트를 LangChain과 통합\n",
    "prompt = langfuse.get_prompt(\"movie-critic\", label=\"production\")\n",
    "\n",
    "langchain_prompt = PromptTemplate.from_template(\n",
    "    prompt.get_langchain_prompt(),\n",
    "    metadata={\"langfuse_prompt\": prompt},  # Langfuse 자동 링크를 위한 메타데이터\n",
    ")\n",
    "\n",
    "# 모델 초기화 (프롬프트 설정 사용)\n",
    "model = ChatOpenAI(\n",
    "    model=prompt.config.get(\"model\", \"gpt-4.1-mini\"),\n",
    "    temperature=prompt.config.get(\"temperature\", 0.7),\n",
    "    max_completion_tokens=prompt.config.get(\"max_tokens\", 500)\n",
    ")\n",
    "\n",
    "# 체인 생성 및 실행\n",
    "chain = langchain_prompt | model\n",
    "response = chain.invoke(\n",
    "    input={\"criticLevel\": \"전문가\", \"movie\": \"인셉션\"},\n",
    "    config={\"callbacks\": [langfuse_handler]}  # Langfuse 트레이싱을 위한 콜백\n",
    ")\n",
    "\n",
    "print(response.content)"
   ]
  },
  {
   "cell_type": "markdown",
   "metadata": {},
   "source": [
    "### 4.2 챗 프롬프트와 LangChain 통합"
   ]
  },
  {
   "cell_type": "code",
   "execution_count": 24,
   "metadata": {},
   "outputs": [
    {
     "name": "stdout",
     "output_type": "stream",
     "text": [
      "크리스토퍼 놀란 감독의 2010년작 **<인셉션(Inception)>**은 현대 SF 스릴러의 새로운 지평을 연 작품으로, 영화사에서 드물게 ‘꿈’이라는 추상적 개념을 정교한 플롯과 시각적 스펙터클로 구현했다는 점에서 높이 평가받는다. 이 영화는 단순한 오락영화를 넘어, 무의식과 현실, 죄책감과 구원, 인간 심리의 복잡성을 다루며 관객에게 깊은 사유의 경험을 제공한다.\n",
      "\n",
      "### 1. 서사 구조와 내러티브의 혁신성\n",
      "\n",
      "**<인셉션>**의 서사는 ‘꿈속의 꿈’이라는 중첩된 구조로 이루어져 있다. 주인공 돔 코브(레오나르도 디카프리오 분)가 각기 다른 인물들과 팀을 이뤄 타인의 무의식에 침투, 특정 아이디어를 심는 ‘인셉션’ 임무를 수행하는 과정은 다층적 내러티브의 진수를 보여준다. 각 층위(현실-첫 번째 꿈-두 번째 꿈-림보)는 시공간의 법칙이 다르고, 시간의 속도 역시 계층별로 달라진다. 놀란 감독은 이러한 복잡성을 혼란스럽지 않게 전달하기 위해, 색채, 음악, 편집의 리듬, 액션의 톤을 세밀하게 조율한다. 이는 관객이 각 층위의 경계와 규칙을 자연스럽게 인지하도록 돕는다.\n",
      "\n",
      "### 2. 주제와 심리적 깊이\n",
      "\n",
      "영화는 단순히 ‘꿈을 꾸는 사람들’의 이야기에서 멈추지 않는다. 놀란은 코브의 내면적 상처와 죄책감을 이야기의 핵심 동력으로 삼는다. 코브와 그의 아내 멀(마리옹 꼬띠아르 분) 사이의 비극적 사랑, 그리고 멀의 죽음을 둘러싼 죄책감은 꿈의 세계가 단순한 미로가 아니라, 인간 심리의 무의식이 투영된 공간임을 상징한다. 꿈의 구조에 대한 치밀한 설정이 오히려 인간 내면의 불안과 상처, 구원을 향한 갈망을 더 극적으로 드러낸다.\n",
      "\n",
      "### 3. 시각적·청각적 스타일\n",
      "\n",
      "**<인셉션>**은 놀란 특유의 현실과 비현실의 경계에 선 시각적 스타일이 빛을 발한다. 파리의 거리들이 접히고, 중력이 뒤틀리며, 꿈의 세계가 무너지는 장면은 CG와 실제 촬영의 경계에서 관객에게 ‘꿈의 논리’와 ‘불가능한 현실감’을 동시에 선사한다. 한스 짐머의 음악은 영화의 긴장감과 감정선을 견고히 지탱하며, 특히 ‘Time’은 영화 전체의 주제를 응축한 명곡으로 남았다.\n",
      "\n",
      "### 4. 연기와 캐릭터\n",
      "\n",
      "레오나르도 디카프리오는 코브의 복잡한 내면, 냉철함과 불안, 죄책감과 희망을 섬세하게 그려낸다. 마리옹 꼬띠아르는 환상과 현실의 경계에서 위태롭게 존재하는 멀을 치명적으로 연기한다. 조셉 고든 레빗, 엘렌 페이지, 톰 하디 등 조연들은 각기 개성적이면서도 팀플레이의 긴장과 유머, 인간적 온기를 더한다.\n",
      "\n",
      "### 5. 결말과 ‘토템’의 의미\n",
      "\n",
      "영화의 엔딩, ‘토템’(팽이)의 회전은 아직까지도 영화 팬들 사이에서 해석이 분분하다. 현실과 꿈의 경계가 모호해진 코브의 마지막 장면은, 결국 진실 그 자체보다 ‘믿고 싶은 세계’가 무엇인가를 묻는다. 이는 놀란이 영화 전체에서 던지는 질문 ― 현실이란 무엇인가, 무의식의 세계와 현실의 경계는 과연 분명한가 ― 와 맞닿는다.\n",
      "\n",
      "---\n",
      "\n",
      "**<인셉션>**은 단순한 SF 액션 혹은 하이스트 무비가 아니라, 인간 심연의 상처와 구원, 현실과 환상의 본질을 다루는 심오한 철학적 영화다. 놀\n"
     ]
    }
   ],
   "source": [
    "from langchain_core.prompts import ChatPromptTemplate\n",
    "\n",
    "# 챗 프롬프트 통합\n",
    "chat_prompt = langfuse.get_prompt(\"movie-critic-chat\", label=\"production\", type=\"chat\")\n",
    "\n",
    "langchain_chat_prompt = ChatPromptTemplate.from_messages(\n",
    "    chat_prompt.get_langchain_prompt()\n",
    ")\n",
    "langchain_chat_prompt.metadata = {\"langfuse_prompt\": chat_prompt}\n",
    "\n",
    "# 체인 실행\n",
    "chain = langchain_chat_prompt | model\n",
    "response = chain.invoke(\n",
    "    input={\"criticLevel\": \"전문가\", \"movie\": \"인셉션\"},\n",
    "    config={\"callbacks\": [langfuse_handler]}\n",
    ")\n",
    "\n",
    "print(response.content)"
   ]
  },
  {
   "cell_type": "markdown",
   "metadata": {},
   "source": [
    "### 4.3 플레이스홀더가 있는 프롬프트와 LangChain 통합"
   ]
  },
  {
   "cell_type": "code",
   "execution_count": 25,
   "metadata": {},
   "outputs": [
    {
     "name": "stderr",
     "output_type": "stream",
     "text": [
      "Placeholders ['chat_history'] have not been resolved. Pass them as keyword arguments to compile().\n"
     ]
    },
    {
     "name": "stdout",
     "output_type": "stream",
     "text": [
      "크리스토퍼 놀란 감독의 2010년 작품인 **《인셉션(Inception)》**은 현대 SF 영화의 걸작으로 자주 언급됩니다. 영화는 ‘꿈속의 꿈’이라는 독창적이고 복잡한 구조를 통해, 인간의 무의식과 현실, 그리고 아이디어의 힘에 대한 깊은 탐구를 보여줍니다.\n",
      "\n",
      "**영화적 완성도**  \n",
      "놀란 감독의 특유의 치밀한 플롯 구성과 시간 구조의 실험이 돋보입니다. 관객이 끊임없이 ‘지금이 현실인가, 꿈인가’를 고민하게 만드는 전개와, 마지막 회전하는 팽이로 대표되는 열린 결말까지, 상상력을 자극하는 요소들이 뛰어납니다.\n",
      "\n",
      "**연출과 연기**  \n",
      "레오나르도 디카프리오, 마리옹 꼬띠아르, 조셉 고든 레빗 등 배우들의 열연도 인상적입니다. 각 인물의 감정선이 복잡한 이야기를 따라가면서도 자연스럽게 전달되어, 관객의 몰입도를 높입니다.\n",
      "\n",
      "**시각적, 기술적 측면**  \n",
      "시각효과(VFX)와 실사 촬영의 조화가 훌륭합니다. 파리 거리가 접히고, 무중력 액션 신 등은 영화사에 남을 명장면입니다. 한스 짐머의 음악 역시 긴장감과 감정의 깊이를 더합니다.\n",
      "\n",
      "**예산과 흥행**  \n",
      "약 1억 6천만 달러의 제작비가 투입된 블록버스터로, 전 세계적으로 8억 달러 이상의 흥행 수익을 올렸습니다. 높은 예산을 아트적인 실험과 상업적 재미, 두 마리 토끼를 잡는 데 성공적으로 사용한 사례라 평가할 수 있습니다.\n",
      "\n",
      "**총평**  \n",
      "《인셉션》은 상상력, 기술력, 서사, 연기 등 모든 측면에서 높은 완성도를 보인 작품입니다. 오락성과 예술성을 겸비한, 21세기 최고의 SF 영화 중 하나로 꼽을 만합니다.\n"
     ]
    }
   ],
   "source": [
    "from langchain_core.prompts import MessagesPlaceholder\n",
    "\n",
    "# 플레이스홀더가 있는 프롬프트 가져오기\n",
    "prompt_with_history = langfuse.get_prompt(\"movie-critic-with-history\", type=\"chat\")\n",
    "\n",
    "# LangChain 호환 프롬프트로 변환 (미해결 플레이스홀더는 MessagesPlaceholder로 변환)\n",
    "langchain_prompt_with_placeholder = ChatPromptTemplate.from_messages(\n",
    "    prompt_with_history.get_langchain_prompt()\n",
    ")\n",
    "langchain_prompt_with_placeholder.metadata = {\"langfuse_prompt\": prompt_with_history}\n",
    "\n",
    "# chain 생성\n",
    "chain = langchain_prompt_with_placeholder | model\n",
    "\n",
    "# 실행 시 플레이스홀더 값 제공\n",
    "chat_history = [\n",
    "    {\"role\": \"user\", \"content\": \"안녕하세요! 영화 예산에 대해서 이야기해볼까요?\"},\n",
    "    {\"role\": \"assistant\", \"content\": \"안녕하세요! 영화 예산에 대해 어떻게 도와드릴까요?\"}\n",
    "]\n",
    "\n",
    "response = chain.invoke({\n",
    "    \"criticLevel\": \"전문가\", \n",
    "    \"movie\": \"인셉션\",\n",
    "    \"chat_history\": chat_history\n",
    "}, config={\"callbacks\": [langfuse_handler]})  # Langfuse 트레이싱을 위한 콜백\n",
    "\n",
    "print(response.content)"
   ]
  },
  {
   "cell_type": "markdown",
   "metadata": {},
   "source": [
    "### **[실습 4]**\n",
    "앞에서 정의한 텍스트 기반 프롬프트를 가져와서 LangChain과 통합하여 트레이싱을 실행하고, Langfuse UI에서 결과를 확인하세요.\n"
   ]
  },
  {
   "cell_type": "code",
   "execution_count": null,
   "metadata": {},
   "outputs": [],
   "source": [
    "# 여기에 코드를 추가하세요."
   ]
  },
  {
   "cell_type": "code",
   "execution_count": null,
   "metadata": {},
   "outputs": [],
   "source": [
    "# 특정 라벨 가져오기\n",
    "prompt_staging = langfuse.get_prompt(\"movie-critic\", label=\"latest\")  # production, latest\n",
    "\n",
    "# 프롬프트 출력\n",
    "print(f\"모델: {prompt_staging.config['model']}\")\n",
    "print(f\"온도: {prompt_staging.config['temperature']}\")\n",
    "print(f\"라벨: {prompt_staging.labels}\")\n",
    "print(f\"프롬프트: {prompt_staging.prompt}\")"
   ]
  },
  {
   "cell_type": "code",
   "execution_count": null,
   "metadata": {},
   "outputs": [],
   "source": [
    "from langchain_core.prompts import ChatPromptTemplate\n",
    "\n",
    "# Langchain과 통합 - 'chat' 프롬프트\n",
    "langchain_prompt = ChatPromptTemplate.from_template(\n",
    "    prompt_staging.get_langchain_prompt(type=\"chat\"),\n",
    ")\n",
    "langchain_prompt.metadata = {\"langfuse_prompt\": prompt_staging}\n",
    "\n",
    "print(langchain_prompt.format(criticLevel=\"비평가\", movie=\"인셉션\"))"
   ]
  },
  {
   "cell_type": "code",
   "execution_count": null,
   "metadata": {},
   "outputs": [],
   "source": [
    "from langchain_openai import ChatOpenAI\n",
    "\n",
    "# ChatOpenAI 모델 초기화 (프롬프트 설정에서 가져온 값 사용)\n",
    "model = ChatOpenAI(\n",
    "    model=prompt.config.get(\"model\", \"gpt-4.1-mini\"),\n",
    "    temperature=prompt.config.get(\"temperature\", 0.7)\n",
    ")\n",
    "\n",
    "# 체인 생성 및 실행\n",
    "chain = langchain_prompt | model\n",
    "response = chain.invoke(\n",
    "    input={\"criticLevel\": \"전문가\", \"movie\": \"인셉션\"},\n",
    "    config={\"callbacks\": [langfuse_handler]}  # 콜백 핸들러 추가\n",
    ")\n",
    "\n",
    "# 응답 출력\n",
    "print(response.content)"
   ]
  },
  {
   "cell_type": "markdown",
   "metadata": {},
   "source": [
    "### **[실습 5]**\n",
    "앞에서 정의한 chat 기반 프롬프트를 가져와서 LangChain과 통합하여 트레이싱을 실행하고, Langfuse UI에서 결과를 확인하세요."
   ]
  },
  {
   "cell_type": "code",
   "execution_count": null,
   "metadata": {},
   "outputs": [],
   "source": [
    "# 여기에 코드를 추가하세요."
   ]
  }
 ],
 "metadata": {
  "kernelspec": {
   "display_name": ".venv",
   "language": "python",
   "name": "python3"
  },
  "language_info": {
   "codemirror_mode": {
    "name": "ipython",
    "version": 3
   },
   "file_extension": ".py",
   "mimetype": "text/x-python",
   "name": "python",
   "nbconvert_exporter": "python",
   "pygments_lexer": "ipython3",
   "version": "3.12.11"
  }
 },
 "nbformat": 4,
 "nbformat_minor": 2
}
